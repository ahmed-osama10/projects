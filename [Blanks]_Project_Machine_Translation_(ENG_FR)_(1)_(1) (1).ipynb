{
  "cells": [
    {
      "cell_type": "markdown",
      "metadata": {
        "id": "xiC75uo6u_Of"
      },
      "source": [
        "##Machine Translation Using a Seq2Seq Architecture\n",
        "© 2023, Zaka AI, Inc. All Rights Reserved.\n",
        "\n",
        "---\n",
        "The goal of this colab is to get you more familiar with the Seq2Seq models and their challenges. For this reason, you will be working on machine translation problem where we would have a sentence as input (in english), and the output is gonna be the translated sentence (in french). So just like what happens with Google Translate.\n"
      ]
    },
    {
      "cell_type": "markdown",
      "metadata": {
        "id": "TeK4LPupvg_c"
      },
      "source": [
        "**Just to give you a heads up:** We won't be having a model performing like Google translate, but at least we will have an idea about how Google Translate works and the challenges that exist with a translation problem.  "
      ]
    },
    {
      "cell_type": "markdown",
      "metadata": {
        "id": "SBTvDTzBv293"
      },
      "source": [
        "## Importing Libraries"
      ]
    },
    {
      "cell_type": "markdown",
      "metadata": {
        "id": "4_j1ZzS3v6N3"
      },
      "source": [
        "We start by importing numpy and pandas and then we can add the rest"
      ]
    },
    {
      "cell_type": "code",
      "execution_count": null,
      "metadata": {
        "id": "n0IARXAX1e1m"
      },
      "outputs": [],
      "source": [
        "import numpy as np\n",
        "import pandas as pd\n",
        "import tensorflow as tf\n",
        "import nltk\n",
        "from sklearn import cluster, preprocessing"
      ]
    },
    {
      "cell_type": "markdown",
      "metadata": {
        "id": "vAcLqZ7uv-SJ"
      },
      "source": [
        "We clone the github repository where our data exists. Here is the github link: https://github.com/zaka-ai/machine_learning_certification/tree/main/Challenge%207 "
      ]
    },
    {
      "cell_type": "markdown",
      "metadata": {
        "id": "i3hLN42axOjn"
      },
      "source": [
        "## Getting the data"
      ]
    },
    {
      "cell_type": "code",
      "execution_count": null,
      "metadata": {
        "colab": {
          "base_uri": "https://localhost:8080/"
        },
        "id": "0-M7cFxTPpqy",
        "outputId": "99e39825-db53-4a47-dde2-cc29c675abad"
      },
      "outputs": [
        {
          "output_type": "stream",
          "name": "stdout",
          "text": [
            "fatal: destination path 'machine_learning_certification' already exists and is not an empty directory.\n",
            "/content/machine_learning_certification/Challenge 7\n"
          ]
        }
      ],
      "source": [
        "!git clone https://github.com/zaka-ai/machine_learning_certification.git\n",
        "%cd machine_learning_certification/Challenge\\ 7/"
      ]
    },
    {
      "cell_type": "markdown",
      "metadata": {
        "id": "BaPr0N8cwGAv"
      },
      "source": [
        "We read the english sentences in a dataframe named \"english\", and the french sentences in a dataframe named \"french\""
      ]
    },
    {
      "cell_type": "code",
      "execution_count": null,
      "metadata": {
        "id": "kFj8gkP01lGT"
      },
      "outputs": [],
      "source": [
        "# Read the English sentences into a dataframe named \"english\"\n",
        "english = pd.read_csv(\"en.csv\")"
      ]
    },
    {
      "cell_type": "code",
      "execution_count": null,
      "metadata": {
        "id": "P4A7ZKt32A7s"
      },
      "outputs": [],
      "source": [
        "# Read the French sentences into a dataframe named \"french\"\n",
        "french = pd.read_csv(\"fr.csv\")"
      ]
    },
    {
      "cell_type": "markdown",
      "metadata": {
        "id": "jr8OO1OhwSp4"
      },
      "source": [
        "**How many sentences does each of the files contain?**"
      ]
    },
    {
      "cell_type": "code",
      "execution_count": null,
      "metadata": {
        "colab": {
          "base_uri": "https://localhost:8080/"
        },
        "id": "XhWJP-b02HKq",
        "outputId": "284615ab-eff4-4fbc-8b6d-67e4435fd6af"
      },
      "outputs": [
        {
          "output_type": "stream",
          "name": "stdout",
          "text": [
            "Number of sentences in the English file: 137859\n",
            "Number of sentences in the French file: 137859\n"
          ]
        }
      ],
      "source": [
        "# Print the number of sentences in each file\n",
        "print(\"Number of sentences in the English file:\", english.shape[0])\n",
        "print(\"Number of sentences in the French file:\", french.shape[0])"
      ]
    },
    {
      "cell_type": "markdown",
      "metadata": {
        "id": "ITGJN5tIwkDO"
      },
      "source": [
        "Now let us concatenate the 2 dataframes into one dataframe that we call **df** where one column has the english senetnces and the other has the french sentences"
      ]
    },
    {
      "cell_type": "code",
      "execution_count": null,
      "metadata": {
        "id": "-ZXxahsB2njn"
      },
      "outputs": [],
      "source": [
        "# Merge the two dataframes into a single dataframe\n",
        "df = pd.concat([english, french], axis=1)"
      ]
    },
    {
      "cell_type": "markdown",
      "metadata": {
        "id": "nAr_caXkwwE7"
      },
      "source": [
        "Let's name the columns as **English** and **French** so that we access them easier."
      ]
    },
    {
      "cell_type": "code",
      "execution_count": null,
      "metadata": {
        "colab": {
          "base_uri": "https://localhost:8080/"
        },
        "id": "eOHiQDXx3jFS",
        "outputId": "49069c76-a616-4e0c-9cdd-2ba7420bb1c8"
      },
      "outputs": [
        {
          "output_type": "stream",
          "name": "stdout",
          "text": [
            "Index(['new jersey is sometimes quiet during autumn , and it is snowy in april .', 'new jersey est parfois calme pendant l' automne , et il est neigeux en avril .'], dtype='object')\n"
          ]
        }
      ],
      "source": [
        "print(df.columns)"
      ]
    },
    {
      "cell_type": "code",
      "execution_count": null,
      "metadata": {
        "colab": {
          "base_uri": "https://localhost:8080/"
        },
        "id": "v-XTrEWOt5P3",
        "outputId": "a16e5f68-5215-49ab-8b84-dfef6dbe0dc7"
      },
      "outputs": [
        {
          "output_type": "stream",
          "name": "stdout",
          "text": [
            "Index(['English', 'French'], dtype='object')\n"
          ]
        }
      ],
      "source": [
        "# Rename the columns to \"English\" and \"French\"\n",
        "df = df.rename(columns={df.columns[0]: \"English\", df.columns[1]: \"French\"})\n",
        "print(df.columns)"
      ]
    },
    {
      "cell_type": "markdown",
      "metadata": {
        "id": "4xc1TsEHw9yC"
      },
      "source": [
        "Pick a sentence and print it in both languages"
      ]
    },
    {
      "cell_type": "code",
      "execution_count": null,
      "metadata": {
        "colab": {
          "base_uri": "https://localhost:8080/"
        },
        "id": "QuRVWch23ujo",
        "outputId": "12bfae33-4bda-474a-93fa-abac1c7bf76d"
      },
      "outputs": [
        {
          "output_type": "stream",
          "name": "stdout",
          "text": [
            "English sentence:\n",
            "california is usually freezing during december , and it is busy in april .\n",
            "French sentence:\n",
            "la californie est le gel habituellement en décembre , et il est occupé en avril .\n"
          ]
        }
      ],
      "source": [
        "# Pick a random index\n",
        "idx = 30\n",
        "\n",
        "# Print the English sentence\n",
        "print(\"English sentence:\")\n",
        "print(df.loc[idx, \"English\"])\n",
        "\n",
        "# Print the French sentence\n",
        "print(\"French sentence:\")\n",
        "print(df.loc[idx, \"French\"])"
      ]
    },
    {
      "cell_type": "markdown",
      "metadata": {
        "id": "FQjXYP1txFCi"
      },
      "source": [
        "##Cleaning Data"
      ]
    },
    {
      "cell_type": "markdown",
      "metadata": {
        "id": "xgz6jIoVxHUF"
      },
      "source": [
        "The data that we have is almost clean as we can see, we just need to remove the punctuations inside of it."
      ]
    },
    {
      "cell_type": "code",
      "execution_count": null,
      "metadata": {
        "colab": {
          "base_uri": "https://localhost:8080/"
        },
        "id": "6YYOt5QftcFI",
        "outputId": "ecb1613f-4be9-41a0-9ea4-f4951e974019"
      },
      "outputs": [
        {
          "output_type": "stream",
          "name": "stdout",
          "text": [
            "This is a sentence with punctuations\n"
          ]
        }
      ],
      "source": [
        "import re\n",
        "sentence = \"This is a sentence, with punctuations!\"\n",
        "cleaned_sentence = re.sub(r'[^\\w\\s]', '', sentence)\n",
        "print(cleaned_sentence)"
      ]
    },
    {
      "cell_type": "markdown",
      "metadata": {
        "id": "0C1qsC9LxZPb"
      },
      "source": [
        "Make sure that the punctuation is removed by printing the example that you printed earlier."
      ]
    },
    {
      "cell_type": "code",
      "execution_count": null,
      "metadata": {
        "colab": {
          "base_uri": "https://localhost:8080/"
        },
        "id": "T80tiWxe84G7",
        "outputId": "aa83fbea-c079-4835-e692-f83d3502290c"
      },
      "outputs": [
        {
          "output_type": "stream",
          "name": "stdout",
          "text": [
            "English sentence:\n",
            "california is usually freezing during december  and it is busy in april \n",
            "French sentence:\n",
            "la californie est le gel habituellement en décembre  et il est occupé en avril \n"
          ]
        }
      ],
      "source": [
        "import string\n",
        "\n",
        "# Remove punctuations from the sentences\n",
        "translator = str.maketrans('', '', string.punctuation)\n",
        "df[\"English\"] = df[\"English\"].apply(lambda x: x.translate(translator))\n",
        "df[\"French\"] = df[\"French\"].apply(lambda x: x.translate(translator))\n",
        "\n",
        "# Pick a random index\n",
        "idx = 30\n",
        "\n",
        "# Print the English sentence\n",
        "print(\"English sentence:\")\n",
        "print(df.loc[idx, \"English\"])\n",
        "\n",
        "# Print the French sentence\n",
        "print(\"French sentence:\")\n",
        "print(df.loc[idx, \"French\"])\n"
      ]
    },
    {
      "cell_type": "markdown",
      "metadata": {
        "id": "ZuFNjoBAx4oN"
      },
      "source": [
        "##Exploring the Data"
      ]
    },
    {
      "cell_type": "markdown",
      "metadata": {
        "id": "ATfefzPExi2k"
      },
      "source": [
        "Add a column **ENG Length** to the dataset that shows how many words does a sentence contain, and do the same for french in a column called **FR Length**"
      ]
    },
    {
      "cell_type": "code",
      "execution_count": null,
      "metadata": {
        "id": "Dakeo81s352S"
      },
      "outputs": [],
      "source": [
        "df['ENG Length'] = df['English'].str.split().apply(len)"
      ]
    },
    {
      "cell_type": "code",
      "execution_count": null,
      "metadata": {
        "id": "49keasjaPaaK"
      },
      "outputs": [],
      "source": [
        "df['FR Length'] = df['French'].str.split().apply(len)"
      ]
    },
    {
      "cell_type": "code",
      "execution_count": null,
      "metadata": {
        "colab": {
          "base_uri": "https://localhost:8080/"
        },
        "id": "OGMIg1OGvo7F",
        "outputId": "0174ce90-e243-49e5-cd12-21917feb1f08"
      },
      "outputs": [
        {
          "output_type": "stream",
          "name": "stdout",
          "text": [
            "                                             English  \\\n",
            "0  the united states is usually chilly during jul...   \n",
            "1  california is usually quiet during march  and ...   \n",
            "2  the united states is sometimes mild during jun...   \n",
            "3  your least liked fruit is the grape  but my le...   \n",
            "4  his favorite fruit is the orange  but my favor...   \n",
            "\n",
            "                                              French  ENG Length  FR Length  \n",
            "0  les étatsunis est généralement froid en juille...          15         13  \n",
            "1  california est généralement calme en mars  et ...          13         13  \n",
            "2  les étatsunis est parfois légère en juin  et i...          14         13  \n",
            "3  votre moins aimé fruit est le raisin  mais mon...          14         14  \n",
            "4  son fruit préféré est lorange  mais mon préfér...          12         11  \n"
          ]
        }
      ],
      "source": [
        "# Print the first 5 rows of the dataframe with column headers\n",
        "print(df.head())"
      ]
    },
    {
      "cell_type": "markdown",
      "metadata": {
        "id": "AjQLW0K5xwx1"
      },
      "source": [
        "Visualize the distribution of the lengths of english sentences and french sentences."
      ]
    },
    {
      "cell_type": "code",
      "execution_count": null,
      "metadata": {
        "colab": {
          "base_uri": "https://localhost:8080/",
          "height": 295
        },
        "id": "_q_UIMJ09L24",
        "outputId": "5491055a-8997-446f-f0d5-19928e3e4abe"
      },
      "outputs": [
        {
          "output_type": "display_data",
          "data": {
            "text/plain": [
              "<Figure size 432x288 with 1 Axes>"
            ],
            "image/png": "[encoded data removed]"
          },
          "metadata": {
            "needs_background": "light"
          }
        }
      ],
      "source": [
        "import matplotlib.pyplot as plt\n",
        "# Create a histogram of English sentence lengths\n",
        "plt.hist(df['ENG Length'], bins=20)\n",
        "plt.title('English Sentence Length')\n",
        "plt.xlabel('Number of Words')\n",
        "plt.ylabel('Frequency')\n",
        "plt.show()"
      ]
    },
    {
      "cell_type": "code",
      "execution_count": null,
      "metadata": {
        "colab": {
          "base_uri": "https://localhost:8080/",
          "height": 295
        },
        "id": "TSn4L7kW9R7g",
        "outputId": "c6b3b2fb-439d-4ab6-eb7a-60ff9b4b5308"
      },
      "outputs": [
        {
          "output_type": "display_data",
          "data": {
            "text/plain": [
              "<Figure size 432x288 with 1 Axes>"
            ],
            "image/png": "[encoded data removed]"
          },
          "metadata": {
            "needs_background": "light"
          }
        }
      ],
      "source": [
        "# Create a histogram of French sentence lengths\n",
        "plt.hist(df['FR Length'], bins=20)\n",
        "plt.title('French Sentence Length')\n",
        "plt.xlabel('Number of Words')\n",
        "plt.ylabel('Frequency')\n",
        "plt.show()"
      ]
    },
    {
      "cell_type": "code",
      "execution_count": null,
      "metadata": {
        "colab": {
          "base_uri": "https://localhost:8080/",
          "height": 350
        },
        "id": "Psw9QfwZxPsr",
        "outputId": "933e2b6a-082d-49df-f11c-89b977ef5b26"
      },
      "outputs": [
        {
          "output_type": "display_data",
          "data": {
            "text/plain": [
              "<Figure size 720x360 with 2 Axes>"
            ],
            "image/png": "[encoded data removed]"
          },
          "metadata": {
            "needs_background": "light"
          }
        }
      ],
      "source": [
        "import matplotlib.pyplot as plt\n",
        "\n",
        "# Create a figure with two subplots\n",
        "fig, (ax1, ax2) = plt.subplots(1, 2, figsize=(10, 5))\n",
        "\n",
        "# Plot the distribution of English sentence lengths\n",
        "ax1.hist(df['ENG Length'], bins=20, color='blue', alpha=0.5)\n",
        "ax1.set_title('English sentence lengths')\n",
        "ax1.set_xlabel('Number of words')\n",
        "ax1.set_ylabel('Frequency')\n",
        "\n",
        "# Plot the distribution of French sentence lengths\n",
        "ax2.hist(df['FR Length'], bins=20, color='red', alpha=0.5)\n",
        "ax2.set_title('French sentence lengths')\n",
        "ax2.set_xlabel('Number of words')\n",
        "ax2.set_ylabel('Frequency')\n",
        "\n",
        "# Show the plot\n",
        "plt.show()"
      ]
    },
    {
      "cell_type": "markdown",
      "metadata": {
        "id": "BDXb2d9ix9DV"
      },
      "source": [
        "Get the maximum length of an english sentence and the maximum length of a french sentence. "
      ]
    },
    {
      "cell_type": "code",
      "execution_count": null,
      "metadata": {
        "colab": {
          "base_uri": "https://localhost:8080/"
        },
        "id": "BpnBB04U_lHd",
        "outputId": "d7ed66d3-c267-4df4-9849-a4fc8a19d6f6"
      },
      "outputs": [
        {
          "output_type": "stream",
          "name": "stdout",
          "text": [
            "Maximum length of an English sentence: 15\n",
            "Maximum length of a French sentence: 21\n"
          ]
        }
      ],
      "source": [
        "eng_max_length = df['ENG Length'].max()\n",
        "fr_max_length = df['FR Length'].max()\n",
        "\n",
        "print(\"Maximum length of an English sentence:\", eng_max_length)\n",
        "print(\"Maximum length of a French sentence:\", fr_max_length)"
      ]
    },
    {
      "cell_type": "markdown",
      "metadata": {
        "id": "s4s-spsRyGJv"
      },
      "source": [
        "##Preprocessing the Data"
      ]
    },
    {
      "cell_type": "markdown",
      "metadata": {
        "id": "N0ZmIT2GyJMU"
      },
      "source": [
        "In order for the data to be fed to the model, it has to be tokenized and padded. "
      ]
    },
    {
      "cell_type": "markdown",
      "metadata": {
        "id": "R0r9z-eErm9H"
      },
      "source": [
        "####Tokenization"
      ]
    },
    {
      "cell_type": "markdown",
      "metadata": {
        "id": "X5L_zkhfyQuX"
      },
      "source": [
        "**To tokenize english and french sentences, we can use only one tokenizer. True or False?**"
      ]
    },
    {
      "cell_type": "markdown",
      "metadata": {
        "id": "1Z0ZcNOeyauD"
      },
      "source": [
        "False. English and French have different grammatical rules, so they require different tokenization methods. It's best to use separate tokenizers for each language."
      ]
    },
    {
      "cell_type": "markdown",
      "metadata": {
        "id": "814mKDFiymcY"
      },
      "source": [
        "Tokenize the sentences that we have."
      ]
    },
    {
      "cell_type": "code",
      "execution_count": null,
      "metadata": {
        "colab": {
          "base_uri": "https://localhost:8080/"
        },
        "id": "aiXlciqFuQzW",
        "outputId": "64e71ce1-688a-4cf1-a0c0-b51448c59aa7"
      },
      "outputs": [
        {
          "output_type": "stream",
          "name": "stderr",
          "text": [
            "[nltk_data] Downloading package punkt to /root/nltk_data...\n",
            "[nltk_data]   Package punkt is already up-to-date!\n"
          ]
        },
        {
          "output_type": "stream",
          "name": "stdout",
          "text": [
            "Tokenized English sentences:\n",
            "['the', 'united', 'states', 'is', 'usually', 'chilly', 'during', 'july', 'and', 'it', 'is', 'usually', 'freezing', 'in', 'november']\n",
            "['california', 'is', 'usually', 'quiet', 'during', 'march', 'and', 'it', 'is', 'usually', 'hot', 'in', 'june']\n",
            "['the', 'united', 'states', 'is', 'sometimes', 'mild', 'during', 'june', 'and', 'it', 'is', 'cold', 'in', 'september']\n",
            "['your', 'least', 'liked', 'fruit', 'is', 'the', 'grape', 'but', 'my', 'least', 'liked', 'is', 'the', 'apple']\n",
            "['his', 'favorite', 'fruit', 'is', 'the', 'orange', 'but', 'my', 'favorite', 'is', 'the', 'grape']\n",
            "\n",
            "Tokenized French sentences:\n",
            "['les', 'étatsunis', 'est', 'généralement', 'froid', 'en', 'juillet', 'et', 'il', 'gèle', 'habituellement', 'en', 'novembre']\n",
            "['california', 'est', 'généralement', 'calme', 'en', 'mars', 'et', 'il', 'est', 'généralement', 'chaud', 'en', 'juin']\n",
            "['les', 'étatsunis', 'est', 'parfois', 'légère', 'en', 'juin', 'et', 'il', 'fait', 'froid', 'en', 'septembre']\n",
            "['votre', 'moins', 'aimé', 'fruit', 'est', 'le', 'raisin', 'mais', 'mon', 'moins', 'aimé', 'est', 'la', 'pomme']\n",
            "['son', 'fruit', 'préféré', 'est', 'lorange', 'mais', 'mon', 'préféré', 'est', 'le', 'raisin']\n"
          ]
        }
      ],
      "source": [
        "# Download the necessary tokenizer from nltk\n",
        "nltk.download('punkt')\n",
        "\n",
        "# Tokenize English sentences\n",
        "english_sentences = df['English'].values.tolist()\n",
        "tokenized_english = [nltk.word_tokenize(sent) for sent in english_sentences]\n",
        "\n",
        "# Tokenize French sentences\n",
        "french_sentences = df['French'].values.tolist()\n",
        "tokenized_french = [nltk.word_tokenize(sent) for sent in french_sentences]\n",
        "\n",
        "# Print the first 5 tokenized English sentences\n",
        "print(\"Tokenized English sentences:\")\n",
        "for i in range(5):\n",
        "    print(tokenized_english[i])\n",
        "\n",
        "# Print the first 5 tokenized French sentences\n",
        "print(\"\\nTokenized French sentences:\")\n",
        "for i in range(5):\n",
        "    print(tokenized_french[i])"
      ]
    },
    {
      "cell_type": "markdown",
      "metadata": {
        "id": "aUN01jDXys9B"
      },
      "source": [
        "**How many unique words do we have in english and in french?**"
      ]
    },
    {
      "cell_type": "code",
      "execution_count": null,
      "metadata": {
        "colab": {
          "base_uri": "https://localhost:8080/"
        },
        "id": "1WahkdzKvIlO",
        "outputId": "9f784d85-473c-4aac-c639-b7d16b1b3cdf"
      },
      "outputs": [
        {
          "output_type": "stream",
          "name": "stdout",
          "text": [
            "Number of unique words in English:  199\n",
            "Number of unique words in French:  345\n"
          ]
        }
      ],
      "source": [
        "# Get unique words in English and French\n",
        "english_words = set(word for sentence in df[\"English\"] for word in sentence.split())\n",
        "french_words = set(word for sentence in df[\"French\"] for word in sentence.split())\n",
        "\n",
        "# Get the number of unique words\n",
        "num_unique_english_words = len(english_words)\n",
        "num_unique_french_words = len(french_words)\n",
        "\n",
        "# Print the number of unique words\n",
        "print(\"Number of unique words in English: \", num_unique_english_words)\n",
        "print(\"Number of unique words in French: \", num_unique_french_words)\n"
      ]
    },
    {
      "cell_type": "markdown",
      "metadata": {
        "id": "g0C2RJjArtJd"
      },
      "source": [
        "####Padding"
      ]
    },
    {
      "cell_type": "markdown",
      "metadata": {
        "id": "vXdTXMo5y8oB"
      },
      "source": [
        "**What should be the length of the sequences that we have after padding?**"
      ]
    },
    {
      "cell_type": "markdown",
      "metadata": {
        "id": "9wtHQsgXzImq"
      },
      "source": [
        "The length of the sequences after padding should be equal to the length of the longest sentence in the dataset."
      ]
    },
    {
      "cell_type": "markdown",
      "metadata": {
        "id": "hRXayRzVzQD4"
      },
      "source": [
        "Perform padding on the sequences that we have."
      ]
    },
    {
      "cell_type": "code",
      "execution_count": null,
      "metadata": {
        "colab": {
          "base_uri": "https://localhost:8080/"
        },
        "id": "-xI3jNxVTgs1",
        "outputId": "d66b38cd-3367-4b3c-c103-dc825647c122"
      },
      "outputs": [
        {
          "output_type": "stream",
          "name": "stdout",
          "text": [
            "[[ 5 20 21 ...  0  0  0]\n",
            " [22  1  9 ...  0  0  0]\n",
            " [ 5 20 21 ...  0  0  0]\n",
            " ...\n",
            " [19  1 10 ...  0  0  0]\n",
            " [24  1 10 ...  0  0  0]\n",
            " [ 5 84  1 ...  0  0  0]]\n",
            "-------------------\n",
            "[[ 0  0  0 ...  0  0  0]\n",
            " [22  0  0 ...  0  0  0]\n",
            " [ 0  0  0 ...  0  0  0]\n",
            " ...\n",
            " [ 0  0  0 ...  0  0  0]\n",
            " [24  0  0 ...  0  0  0]\n",
            " [13  0  0 ...  0  0  0]]\n",
            "(137859, 20)\n",
            "(137859, 20)\n"
          ]
        }
      ],
      "source": [
        "from tensorflow.keras.preprocessing.text import Tokenizer\n",
        "from tensorflow.keras.preprocessing.sequence import pad_sequences\n",
        "max_length = 20\n",
        "# Create a tokenizer object\n",
        "tokenizer = Tokenizer()\n",
        "\n",
        "# Fit tokenizer on English sentences\n",
        "tokenizer.fit_on_texts(df[\"English\"])\n",
        "tokenizer.word_index['start'] = len(tokenizer.word_index) + 1\n",
        "tokenizer.word_index['end'] = len(tokenizer.word_index) + 2\n",
        "\n",
        "# Convert English sentences to sequences of integers\n",
        "X_sequences = tokenizer.texts_to_sequences(df[\"English\"])\n",
        "\n",
        "# Perform padding on English sequences\n",
        "X_padded = pad_sequences(X_sequences, maxlen=max_length, padding='post')\n",
        "\n",
        "# Convert the French sentences to sequences of integers\n",
        "y_sequences = tokenizer.texts_to_sequences(df[\"French\"])\n",
        "\n",
        "# Perform padding on French sequences\n",
        "y_padded = pad_sequences(y_sequences, maxlen=max_length, padding='post')\n",
        "\n",
        "print(X_padded)\n",
        "print(\"-------------------\")\n",
        "print(y_padded)\n",
        "\n",
        "print(X_padded.shape)\n",
        "print(y_padded.shape)\n"
      ]
    },
    {
      "cell_type": "markdown",
      "metadata": {
        "id": "JxvvVU3ezUHR"
      },
      "source": [
        "##Modeling"
      ]
    },
    {
      "cell_type": "markdown",
      "metadata": {
        "id": "FEKujJUEzVux"
      },
      "source": [
        "After preprrocessing the data, we can build our model. Start by building a baseline architecture relying on one directional RNNs, LSTMs, or GRUs. It will be good to lookup how to build Seq2Seq models, there are some new layers that will help you like RepeatVector and TimeDistributed."
      ]
    },
    {
      "cell_type": "code",
      "execution_count": null,
      "metadata": {
        "id": "c61cnMXuW5bZ"
      },
      "outputs": [],
      "source": [
        "max_decoder_seq_length = len(y_padded[0]) \n",
        "for seq in y_padded:\n",
        "    if len(seq) > max_decoder_seq_length:\n",
        "        max_decoder_seq_length = len(seq) "
      ]
    },
    {
      "cell_type": "code",
      "execution_count": null,
      "metadata": {
        "colab": {
          "base_uri": "https://localhost:8080/"
        },
        "id": "9oydzHkr3zDC",
        "outputId": "07da2232-15d4-47ad-b036-c41665bacd3d"
      },
      "outputs": [
        {
          "output_type": "stream",
          "name": "stdout",
          "text": [
            "201\n"
          ]
        }
      ],
      "source": [
        "from tensorflow.keras.models import Model\n",
        "from tensorflow.keras.layers import Input, LSTM, Embedding, Dense\n",
        "\n",
        "max_encoder_seq_length = X_padded.shape[1]\n",
        "num_encoder_tokens = len(tokenizer.word_index) + 1  # add 1 for padding token\n",
        "num_decoder_tokens = len(tokenizer.word_index) + 1\n",
        "\n",
        "latent_dim = 256  # number of dimensions in embedding space\n",
        "\n",
        "encoder_inputs = Input(shape=(max_encoder_seq_length,))\n",
        "encoder_embedding = Embedding(num_encoder_tokens, latent_dim, mask_zero=True)(encoder_inputs)\n",
        "encoder_lstm = LSTM(latent_dim, return_state=True)\n",
        "encoder_outputs, state_h, state_c = encoder_lstm(encoder_embedding)\n",
        "encoder_states = [state_h, state_c]\n",
        "\n",
        "# Decoder\n",
        "decoder_inputs = Input(shape=(max_decoder_seq_length ,))\n",
        "decoder_embedding = Embedding(num_decoder_tokens, latent_dim, mask_zero=True)(decoder_inputs)\n",
        "decoder_lstm = LSTM(latent_dim, return_sequences=True, return_state=True)\n",
        "\n",
        "decoder_outputs, _, _ = decoder_lstm(decoder_embedding, initial_state=encoder_states)\n",
        "decoder_dense = Dense(num_decoder_tokens, activation='softmax')(decoder_outputs)\n",
        "\n",
        "# Define the model\n",
        "model = Model([encoder_inputs, decoder_inputs], decoder_dense)\n",
        "print(len(tokenizer.word_index))\n"
      ]
    },
    {
      "cell_type": "markdown",
      "metadata": {
        "id": "aP10HtNBzpT0"
      },
      "source": [
        "Compile and train the model. \n",
        "**FYI:** While specifying the architecture of your model and the number of epochs for training, keeep in your mind that your model might take A LOT of time to train."
      ]
    },
    {
      "cell_type": "code",
      "execution_count": null,
      "metadata": {
        "colab": {
          "base_uri": "https://localhost:8080/"
        },
        "id": "6uoqh3BgcBRa",
        "outputId": "c9df760f-d2dc-4a7d-8e60-2e281fed2cde"
      },
      "outputs": [
        {
          "output_type": "stream",
          "name": "stdout",
          "text": [
            "Epoch 1/50\n",
            "1724/1724 [==============================] - 704s 403ms/step - loss: 0.0742 - val_loss: 0.0027\n",
            "Epoch 2/50\n",
            "1724/1724 [==============================] - 656s 381ms/step - loss: 0.0011 - val_loss: 2.9529e-04\n",
            "Epoch 3/50\n",
            "1724/1724 [==============================] - 639s 370ms/step - loss: 1.9207e-04 - val_loss: 9.2261e-05\n",
            "Epoch 4/50\n",
            "1724/1724 [==============================] - 740s 429ms/step - loss: 7.3433e-05 - val_loss: 4.5739e-05\n",
            "Epoch 5/50\n",
            "1724/1724 [==============================] - 726s 421ms/step - loss: 3.0302e-05 - val_loss: 3.1626e-05\n",
            "Epoch 6/50\n",
            "1724/1724 [==============================] - 692s 401ms/step - loss: 1.9799e-05 - val_loss: 2.6112e-05\n",
            "Epoch 7/50\n",
            "1724/1724 [==============================] - 641s 372ms/step - loss: 1.4118e-05 - val_loss: 2.1952e-05\n",
            "Epoch 8/50\n",
            "1724/1724 [==============================] - 638s 370ms/step - loss: 1.1538e-05 - val_loss: 3.1879e-05\n",
            "Epoch 9/50\n",
            "1724/1724 [==============================] - 633s 367ms/step - loss: 9.6470e-06 - val_loss: 3.7916e-05\n",
            "Epoch 10/50\n",
            "1724/1724 [==============================] - 681s 395ms/step - loss: 8.5886e-06 - val_loss: 2.6878e-05\n",
            "Epoch 11/50\n",
            "1724/1724 [==============================] - 635s 368ms/step - loss: 7.4806e-06 - val_loss: 2.5305e-05\n",
            "Epoch 12/50\n",
            "1724/1724 [==============================] - 685s 397ms/step - loss: 6.6783e-06 - val_loss: 3.6681e-05\n",
            "Epoch 13/50\n",
            "1724/1724 [==============================] - 637s 370ms/step - loss: 6.0223e-06 - val_loss: 3.1824e-05\n",
            "Epoch 14/50\n",
            "1724/1724 [==============================] - 641s 372ms/step - loss: 5.4740e-06 - val_loss: 2.7549e-05\n",
            "Epoch 15/50\n",
            "1724/1724 [==============================] - 633s 367ms/step - loss: 5.0784e-06 - val_loss: 2.6122e-05\n",
            "Epoch 16/50\n",
            "1724/1724 [==============================] - 649s 376ms/step - loss: 4.7306e-06 - val_loss: 3.0790e-05\n",
            "Epoch 17/50\n",
            "1724/1724 [==============================] - 687s 399ms/step - loss: 4.3444e-06 - val_loss: 2.6349e-05\n",
            "Epoch 18/50\n",
            "1724/1724 [==============================] - 698s 405ms/step - loss: 4.0923e-06 - val_loss: 2.5374e-05\n",
            "Epoch 19/50\n",
            "1724/1724 [==============================] - 633s 367ms/step - loss: 3.8374e-06 - val_loss: 2.7916e-05\n",
            "Epoch 20/50\n",
            "1724/1724 [==============================] - 636s 369ms/step - loss: 3.6240e-06 - val_loss: 2.5541e-05\n",
            "Epoch 21/50\n",
            "1724/1724 [==============================] - 639s 370ms/step - loss: 3.3762e-06 - val_loss: 2.2070e-05\n",
            "Epoch 22/50\n",
            "1724/1724 [==============================] - 679s 394ms/step - loss: 3.2143e-06 - val_loss: 2.9826e-05\n",
            "Epoch 23/50\n",
            "1724/1724 [==============================] - 680s 395ms/step - loss: 3.0882e-06 - val_loss: 2.8792e-05\n",
            "Epoch 24/50\n",
            "1724/1724 [==============================] - 689s 400ms/step - loss: 2.9503e-06 - val_loss: 2.8318e-05\n",
            "Epoch 25/50\n",
            "1724/1724 [==============================] - ETA: 0s - loss: 2.8168e-06"
          ]
        }
      ],
      "source": [
        "# Compile the model\n",
        "model.compile(optimizer='rmsprop', loss='sparse_categorical_crossentropy')\n",
        "\n",
        "# Train the model for 100 epochs\n",
        "\n",
        "model.fit([X_padded[:, :max_length], y_padded[:, :max_length]], y_padded[:, :max_length], batch_size=64, epochs=50, validation_split=0.2)\n",
        "\n"
      ]
    },
    {
      "cell_type": "markdown",
      "metadata": {
        "id": "9UoEcxyJztiQ"
      },
      "source": [
        "Define a function that gets an input sentence in english and gives the output sentence in the french language."
      ]
    },
    {
      "cell_type": "code",
      "execution_count": null,
      "metadata": {
        "id": "2Z7Lth8JnL_Q"
      },
      "outputs": [],
      "source": [
        "def translate_to_french(input_sentence):\n",
        "    # Tokenize and pad the input sentence\n",
        "    input_sequence = tokenizer.texts_to_sequences([input_sentence])\n",
        "    input_padded = pad_sequences(input_sequence, maxlen=max_length, padding='post')\n",
        "\n",
        "    # Initialize the decoder sequence with a start token\n",
        "    decoder_input_sequence = [[tokenizer.word_index['start']]]\n",
        "    decoder_padded = pad_sequences(decoder_input_sequence, maxlen=max_decoder_seq_length, padding='post')\n",
        "\n",
        "    # Predict the next word until the end token is reached or the maximum length is exceeded\n",
        "    end_token_index = tokenizer.word_index['end']\n",
        "    french_translation = ''\n",
        "    while True:\n",
        "        output_tokens = model.predict([input_padded, decoder_padded])\n",
        "        output_index = np.argmax(output_tokens[0, -1, :])\n",
        "\n",
        "        # Stop if end token is reached or the maximum length is exceeded\n",
        "        if output_index == end_token_index or len(french_translation.split()) >= max_decoder_seq_length:\n",
        "            break\n",
        "\n",
        "        # Add the predicted word to the translation\n",
        "        french_translation += tokenizer.index_word[output_index] + ' '\n",
        "\n",
        "        # Update the decoder sequence with the predicted word\n",
        "        decoder_input_sequence[0].append(output_index)\n",
        "        decoder_padded = pad_sequences(decoder_input_sequence, maxlen=max_decoder_seq_length, padding='post')\n",
        "\n",
        "    return french_translation\n"
      ]
    },
    {
      "cell_type": "markdown",
      "metadata": {
        "id": "XUQIcAjWz3bt"
      },
      "source": [
        "Test the following sentence"
      ]
    },
    {
      "cell_type": "code",
      "execution_count": null,
      "metadata": {
        "id": "fDmNqnZIQMko",
        "colab": {
          "base_uri": "https://localhost:8080/"
        },
        "outputId": "0709dc54-8f6d-457d-c944-db84bfebb95f"
      },
      "outputs": [
        {
          "output_type": "stream",
          "name": "stdout",
          "text": [
            "1/1 [==============================] - 3s 3s/step\n",
            "1/1 [==============================] - 0s 33ms/step\n",
            "1/1 [==============================] - 0s 33ms/step\n",
            "1/1 [==============================] - 0s 32ms/step\n",
            "1/1 [==============================] - 0s 34ms/step\n",
            "1/1 [==============================] - 0s 32ms/step\n",
            "1/1 [==============================] - 0s 35ms/step\n",
            "1/1 [==============================] - 0s 32ms/step\n",
            "1/1 [==============================] - 0s 34ms/step\n",
            "1/1 [==============================] - 0s 32ms/step\n",
            "1/1 [==============================] - 0s 36ms/step\n",
            "1/1 [==============================] - 0s 36ms/step\n",
            "1/1 [==============================] - 0s 35ms/step\n",
            "1/1 [==============================] - 0s 41ms/step\n",
            "1/1 [==============================] - 0s 39ms/step\n",
            "1/1 [==============================] - 0s 36ms/step\n",
            "1/1 [==============================] - 0s 35ms/step\n",
            "1/1 [==============================] - 0s 39ms/step\n",
            "1/1 [==============================] - 0s 58ms/step\n",
            "1/1 [==============================] - 0s 70ms/step\n",
            "1/1 [==============================] - 0s 55ms/step\n",
            "it been been been mango mango mango red jersey our december december december december blue eiffel cat visit apple paris \n"
          ]
        }
      ],
      "source": [
        "input_sentence = \"she is driving the truck\"\n",
        "french_translation = translate_to_french(input_sentence)\n",
        "print(french_translation)"
      ]
    },
    {
      "cell_type": "markdown",
      "metadata": {
        "id": "wdI2XhaBz6CN"
      },
      "source": [
        "Try to improve your model by modifying the architecture to take into account bidirectionality which is very useful in Machine Translation. Create a new model called model2"
      ]
    },
    {
      "cell_type": "code",
      "execution_count": null,
      "metadata": {
        "id": "Ch28BLsbGnCn"
      },
      "outputs": [],
      "source": [
        "from tensorflow.keras.layers import Input, LSTM, Bidirectional, Embedding, Dense, Concatenate\n",
        "from tensorflow.keras.layers import Bidirectional\n",
        "# Encoder\n",
        "encoder_inputs = Input(shape=(max_encoder_seq_length,))\n",
        "encoder_embedding = Embedding(num_encoder_tokens, latent_dim, mask_zero=True)(encoder_inputs)\n",
        "encoder_lstm = Bidirectional(LSTM(latent_dim, return_sequences=True, return_state=True))\n",
        "encoder_outputs, forward_h, forward_c, backward_h, backward_c = encoder_lstm(encoder_embedding)\n",
        "state_h = Concatenate()([forward_h, backward_h])\n",
        "state_c = Concatenate()([forward_c, backward_c])\n",
        "encoder_states = [state_h, state_c]\n",
        "\n",
        "# Decoder\n",
        "decoder_inputs = Input(shape=(max_decoder_seq_length,))\n",
        "decoder_embedding = Embedding(num_decoder_tokens, latent_dim, mask_zero=True)(decoder_inputs)\n",
        "decoder_lstm = LSTM(latent_dim*2, return_sequences=True, return_state=True)\n",
        "\n",
        "decoder_outputs, _, _ = decoder_lstm(decoder_embedding, initial_state=encoder_states)\n",
        "decoder_dense = Dense(num_decoder_tokens, activation='softmax')(decoder_outputs)\n",
        "\n",
        "# Define the model\n",
        "model2 = Model([encoder_inputs, decoder_inputs], decoder_dense)\n",
        "\n"
      ]
    },
    {
      "cell_type": "markdown",
      "metadata": {
        "id": "EHDvxt9L0C21"
      },
      "source": [
        "compile and train your new model."
      ]
    },
    {
      "cell_type": "markdown",
      "metadata": {
        "id": "CkpOI2JI0GBx"
      },
      "source": [
        "Define a new function that relies on your new model to make predictions."
      ]
    },
    {
      "cell_type": "code",
      "source": [
        "model2.compile(optimizer='rmsprop', loss='sparse_categorical_crossentropy')\n",
        "model2.fit([X_padded[:, :max_length], y_padded[:, :max_length]], y_padded[:, :max_length], batch_size=64, epochs=20, validation_split=0.2)"
      ],
      "metadata": {
        "id": "iYj2QYYL6RkO"
      },
      "execution_count": null,
      "outputs": []
    },
    {
      "cell_type": "code",
      "execution_count": null,
      "metadata": {
        "id": "Gulu8OiXTbae"
      },
      "outputs": [],
      "source": [
        "def translate_to_french_v2(input_sentence):\n",
        "    # Tokenize and pad the input sentence\n",
        "    input_sequence = tokenizer.texts_to_sequences([input_sentence])\n",
        "    input_padded = pad_sequences(input_sequence, maxlen=max_length, padding='post')\n",
        "\n",
        "    # Initialize the decoder sequence with a start token\n",
        "    decoder_input_sequence = [[tokenizer.word_index['start']]]\n",
        "    decoder_padded = pad_sequences(decoder_input_sequence, maxlen=max_decoder_seq_length, padding='post')\n",
        "\n",
        "    # Predict the next word until the end token is reached or the maximum length is exceeded\n",
        "    end_token_index = tokenizer.word_index['end']\n",
        "    french_translation = ''\n",
        "    while True:\n",
        "        output_tokens = model2.predict([input_padded, decoder_padded])\n",
        "        output_index = np.argmax(output_tokens[0, -1, :])\n",
        "\n",
        "        # Stop if end token is reached or the maximum length is exceeded\n",
        "        if output_index == end_token_index or len(french_translation.split()) >= max_decoder_seq_length:\n",
        "            break\n",
        "\n",
        "        # Add the predicted word to the translation\n",
        "        french_translation += tokenizer.index_word[output_index] + ' '\n",
        "\n",
        "        # Update the decoder sequence with the predicted word\n",
        "        decoder_input_sequence[0].append(output_index)\n",
        "        decoder_padded = pad_sequences(decoder_input_sequence, maxlen=max_decoder_seq_length, padding='post')\n",
        "\n",
        "    return french_translation\n"
      ]
    },
    {
      "cell_type": "code",
      "execution_count": null,
      "metadata": {
        "id": "8CO0pO6-UAeE"
      },
      "outputs": [],
      "source": [
        "input_sentence = \"she is driving the truck\"\n",
        "french_translation = translate_to_french_v2(input_sentence)\n",
        "print(french_translation)"
      ]
    },
    {
      "cell_type": "markdown",
      "metadata": {
        "id": "YGeXrjqbZen7"
      },
      "source": [
        "**What is another adjustment in terms of architecture that you might be able to do to improve your model?**"
      ]
    },
    {
      "cell_type": "markdown",
      "metadata": {
        "id": "bekjOkjbZlBf"
      },
      "source": [
        "attention mechanism. Attention allows the model to focus on the most relevant parts of the input sequence when generating each word of the output sequence. This can improve the accuracy of the model by ensuring that it considers the most important information when making predictions."
      ]
    },
    {
      "cell_type": "markdown",
      "metadata": {
        "id": "pnIN2lD2tn05"
      },
      "source": [
        "**What are some additional ways that we can do to improve the performance of our model?**"
      ]
    },
    {
      "cell_type": "markdown",
      "metadata": {
        "id": "s7_MCCbQt3uq"
      },
      "source": [
        "More training data: One of the most effective ways to improve the performance of a language translation model is to train it on more data. This can help the model to learn a wider range of language patterns and nuances, which can improve its accuracy.\n",
        "\n",
        "Data augmentation: Another way to increase the amount of training data is to augment the existing data with variations of the same data. For example, you can add noise to the input data, translate the data to other languages, or paraphrase the sentences.\n",
        "\n",
        "Model architecture: Adjusting the model architecture can also improve the performance of the model. For example, you can try using a different number of layers or different types of layers (e.g., convolutional layers, attention layers, etc.), or adjust the number of neurons in each layer.\n",
        "\n",
        "Regularization: Regularization techniques can be used to prevent overfitting, which occurs when the model is too complex and learns the training data too well. Regularization techniques include L1, L2, and dropout regularization.\n",
        "\n",
        "Pre-trained models: Pre-trained models can be used to improve the performance of a language translation model. For example, you can use a pre-trained language model as an encoder, and fine-tune it on your specific translation task.\n",
        "\n",
        "Beam search: Beam search is a search algorithm used in natural language processing to find the most likely sequence of words. By using beam search, you can improve the quality of the output of the model, at the expense of computational cost.\n",
        "\n",
        "Ensembling: Ensembling involves combining the predictions of multiple models to improve the overall performance. This can be done by training multiple models with different architectures or on different subsets of the data, and then averaging their predictions."
      ]
    }
  ],
  "metadata": {
    "colab": {
      "provenance": []
    },
    "kernelspec": {
      "display_name": "Python 3",
      "name": "python3"
    },
    "language_info": {
      "name": "python"
    }
  },
  "nbformat": 4,
  "nbformat_minor": 0
}